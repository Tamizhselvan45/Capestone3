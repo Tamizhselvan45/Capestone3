{
 "cells": [
  {
   "cell_type": "code",
   "execution_count": 4,
   "id": "0d5e34a3",
   "metadata": {},
   "outputs": [],
   "source": [
    "import pandas as pd\n",
    "import streamlit as st\n",
    "from streamlit_option_menu import option_menu\n",
    "import easyocr\n",
    "import mysql.connector as sql\n",
    "from PIL import Image\n",
    "import cv2\n",
    "import os\n",
    "import matplotlib.pyplot as plt\n",
    "import re"
   ]
  },
  {
   "cell_type": "code",
   "execution_count": 7,
   "id": "b82b514b",
   "metadata": {},
   "outputs": [
    {
     "name": "stderr",
     "output_type": "stream",
     "text": [
      "2023-11-07 02:13:53.519 \n",
      "  \u001b[33m\u001b[1mWarning:\u001b[0m to view this Streamlit app on a browser, run it with the following\n",
      "  command:\n",
      "\n",
      "    streamlit run C:\\Users\\Sathya\\anaconda3\\lib\\site-packages\\ipykernel_launcher.py [ARGUMENTS]\n"
     ]
    },
    {
     "data": {
      "text/plain": [
       "DeltaGenerator()"
      ]
     },
     "execution_count": 7,
     "metadata": {},
     "output_type": "execute_result"
    }
   ],
   "source": [
    "# SETTING PAGE CONFIGURATIONS\n",
    "icon = Image.open(\"C:\\\\Users\\\\Sathya\\\\Downloads\\\\Creative Modern Business Card\\\\Home.png\")\n",
    "st.set_page_config(page_title=\"BizCardX: Extracting Business Card Data with OCR | By Arshad Ayub Ahmed\",\n",
    "                   page_icon=icon,\n",
    "                   layout=\"wide\",\n",
    "                   initial_sidebar_state=\"expanded\",\n",
    "                   menu_items={'About': \"\"\"# This OCR app is created by *Arshad Ayub Ahmed*!\"\"\"})\n",
    "st.markdown(\"<h1 style='text-align: center; color: white;'>BizCardX: Extracting Business Card Data with OCR</h1>\", unsafe_allow_html=True)\n",
    "\n"
   ]
  },
  {
   "cell_type": "code",
   "execution_count": null,
   "id": "3dd6d830",
   "metadata": {},
   "outputs": [],
   "source": []
  },
  {
   "cell_type": "code",
   "execution_count": null,
   "id": "20803a5c",
   "metadata": {},
   "outputs": [],
   "source": []
  },
  {
   "cell_type": "code",
   "execution_count": null,
   "id": "a5fee7c8",
   "metadata": {},
   "outputs": [],
   "source": []
  },
  {
   "cell_type": "code",
   "execution_count": null,
   "id": "10325a2b",
   "metadata": {},
   "outputs": [],
   "source": []
  },
  {
   "cell_type": "code",
   "execution_count": 3,
   "id": "1d69c362",
   "metadata": {},
   "outputs": [
    {
     "name": "stdout",
     "output_type": "stream",
     "text": [
      "Requirement already satisfied: easyocr in c:\\users\\sathya\\anaconda3\\lib\\site-packages (1.7.1)\n",
      "Requirement already satisfied: ninja in c:\\users\\sathya\\anaconda3\\lib\\site-packages (from easyocr) (1.11.1.1)\n",
      "Requirement already satisfied: Shapely in c:\\users\\sathya\\anaconda3\\lib\\site-packages (from easyocr) (2.0.2)\n",
      "Requirement already satisfied: numpy in c:\\users\\sathya\\anaconda3\\lib\\site-packages (from easyocr) (1.23.5)\n",
      "Requirement already satisfied: Pillow in c:\\users\\sathya\\anaconda3\\lib\\site-packages (from easyocr) (9.4.0)\n",
      "Requirement already satisfied: scikit-image in c:\\users\\sathya\\anaconda3\\lib\\site-packages (from easyocr) (0.19.3)\n",
      "Requirement already satisfied: torch in c:\\users\\sathya\\anaconda3\\lib\\site-packages (from easyocr) (2.1.0)\n",
      "Requirement already satisfied: torchvision>=0.5 in c:\\users\\sathya\\anaconda3\\lib\\site-packages (from easyocr) (0.16.0)\n",
      "Requirement already satisfied: opencv-python-headless in c:\\users\\sathya\\anaconda3\\lib\\site-packages (from easyocr) (4.8.1.78)\n",
      "Requirement already satisfied: python-bidi in c:\\users\\sathya\\anaconda3\\lib\\site-packages (from easyocr) (0.4.2)\n",
      "Requirement already satisfied: PyYAML in c:\\users\\sathya\\anaconda3\\lib\\site-packages (from easyocr) (6.0)\n",
      "Requirement already satisfied: scipy in c:\\users\\sathya\\anaconda3\\lib\\site-packages (from easyocr) (1.10.0)\n",
      "Requirement already satisfied: pyclipper in c:\\users\\sathya\\anaconda3\\lib\\site-packages (from easyocr) (1.3.0.post5)\n",
      "Requirement already satisfied: requests in c:\\users\\sathya\\anaconda3\\lib\\site-packages (from torchvision>=0.5->easyocr) (2.28.1)\n",
      "Requirement already satisfied: fsspec in c:\\users\\sathya\\anaconda3\\lib\\site-packages (from torch->easyocr) (2022.11.0)\n",
      "Requirement already satisfied: networkx in c:\\users\\sathya\\anaconda3\\lib\\site-packages (from torch->easyocr) (2.8.4)\n",
      "Requirement already satisfied: sympy in c:\\users\\sathya\\anaconda3\\lib\\site-packages (from torch->easyocr) (1.11.1)\n",
      "Requirement already satisfied: jinja2 in c:\\users\\sathya\\anaconda3\\lib\\site-packages (from torch->easyocr) (3.1.2)\n",
      "Requirement already satisfied: typing-extensions in c:\\users\\sathya\\anaconda3\\lib\\site-packages (from torch->easyocr) (4.4.0)\n",
      "Requirement already satisfied: filelock in c:\\users\\sathya\\anaconda3\\lib\\site-packages (from torch->easyocr) (3.9.0)\n",
      "Requirement already satisfied: six in c:\\users\\sathya\\anaconda3\\lib\\site-packages (from python-bidi->easyocr) (1.16.0)\n",
      "Requirement already satisfied: PyWavelets>=1.1.1 in c:\\users\\sathya\\anaconda3\\lib\\site-packages (from scikit-image->easyocr) (1.4.1)\n",
      "Requirement already satisfied: packaging>=20.0 in c:\\users\\sathya\\anaconda3\\lib\\site-packages (from scikit-image->easyocr) (22.0)\n",
      "Requirement already satisfied: imageio>=2.4.1 in c:\\users\\sathya\\anaconda3\\lib\\site-packages (from scikit-image->easyocr) (2.26.0)\n",
      "Requirement already satisfied: tifffile>=2019.7.26 in c:\\users\\sathya\\anaconda3\\lib\\site-packages (from scikit-image->easyocr) (2021.7.2)\n",
      "Requirement already satisfied: MarkupSafe>=2.0 in c:\\users\\sathya\\anaconda3\\lib\\site-packages (from jinja2->torch->easyocr) (2.1.1)\n",
      "Requirement already satisfied: charset-normalizer<3,>=2 in c:\\users\\sathya\\anaconda3\\lib\\site-packages (from requests->torchvision>=0.5->easyocr) (2.0.4)\n",
      "Requirement already satisfied: certifi>=2017.4.17 in c:\\users\\sathya\\anaconda3\\lib\\site-packages (from requests->torchvision>=0.5->easyocr) (2022.12.7)\n",
      "Requirement already satisfied: idna<4,>=2.5 in c:\\users\\sathya\\anaconda3\\lib\\site-packages (from requests->torchvision>=0.5->easyocr) (3.4)\n",
      "Requirement already satisfied: urllib3<1.27,>=1.21.1 in c:\\users\\sathya\\anaconda3\\lib\\site-packages (from requests->torchvision>=0.5->easyocr) (1.26.14)\n",
      "Requirement already satisfied: mpmath>=0.19 in c:\\users\\sathya\\anaconda3\\lib\\site-packages (from sympy->torch->easyocr) (1.2.1)\n",
      "Note: you may need to restart the kernel to use updated packages.\n"
     ]
    },
    {
     "name": "stderr",
     "output_type": "stream",
     "text": [
      "WARNING: Ignoring invalid distribution -rotobuf (c:\\users\\sathya\\anaconda3\\lib\\site-packages)\n",
      "WARNING: Ignoring invalid distribution -rotobuf (c:\\users\\sathya\\anaconda3\\lib\\site-packages)\n",
      "WARNING: Ignoring invalid distribution -rotobuf (c:\\users\\sathya\\anaconda3\\lib\\site-packages)\n",
      "WARNING: Ignoring invalid distribution -rotobuf (c:\\users\\sathya\\anaconda3\\lib\\site-packages)\n",
      "WARNING: Ignoring invalid distribution -rotobuf (c:\\users\\sathya\\anaconda3\\lib\\site-packages)\n",
      "WARNING: Ignoring invalid distribution -rotobuf (c:\\users\\sathya\\anaconda3\\lib\\site-packages)\n"
     ]
    }
   ],
   "source": [
    "pip install easyocr"
   ]
  }
 ],
 "metadata": {
  "kernelspec": {
   "display_name": "Python 3 (ipykernel)",
   "language": "python",
   "name": "python3"
  },
  "language_info": {
   "codemirror_mode": {
    "name": "ipython",
    "version": 3
   },
   "file_extension": ".py",
   "mimetype": "text/x-python",
   "name": "python",
   "nbconvert_exporter": "python",
   "pygments_lexer": "ipython3",
   "version": "3.10.9"
  }
 },
 "nbformat": 4,
 "nbformat_minor": 5
}
